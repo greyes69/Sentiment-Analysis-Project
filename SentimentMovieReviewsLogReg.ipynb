{
 "cells": [
  {
   "cell_type": "code",
   "execution_count": 1,
   "id": "fe11cbad-ce4c-4cb3-b357-0c13ff9ffe61",
   "metadata": {},
   "outputs": [],
   "source": [
    "# Import necessary libraries\n",
    "import pandas as pd\n",
    "from sklearn.feature_extraction.text import TfidfVectorizer\n",
    "from sklearn.model_selection import train_test_split\n",
    "from sklearn.linear_model import LogisticRegression\n",
    "#from sklearn.svm import SVC\n",
    "from sklearn.pipeline import Pipeline\n",
    "from sklearn.feature_extraction.text import ENGLISH_STOP_WORDS\n",
    "import string"
   ]
  },
  {
   "cell_type": "code",
   "execution_count": 2,
   "id": "91449994-a56f-4990-a0ef-487314e0325b",
   "metadata": {},
   "outputs": [],
   "source": [
    "# Assuming you have your dataset in a pandas DataFrame with two columns: 'reviews' and 'label'\n",
    "df = pd.read_csv('IMDB Dataset.csv')  # Uncomment and load your dataset accordingly"
   ]
  },
  {
   "cell_type": "code",
   "execution_count": 3,
   "id": "3468752d-7c77-41d8-9a46-bb30773d84f1",
   "metadata": {},
   "outputs": [],
   "source": [
    "df = df.rename(columns={'review': 'reviews'})"
   ]
  },
  {
   "cell_type": "code",
   "execution_count": 4,
   "id": "0d7ad157-3dce-4acd-ac9a-508187cb8887",
   "metadata": {},
   "outputs": [],
   "source": [
    "# Custom list of very frequent words (you can update this list based on your dataset)\n",
    "custom_stop_words = set(['movie', 'film', 'character', 'plot'])  # Add domain-specific frequent words if needed\n",
    "all_stop_words = list(ENGLISH_STOP_WORDS.union(custom_stop_words))"
   ]
  },
  {
   "cell_type": "code",
   "execution_count": 5,
   "id": "079cebaf-4862-47b1-8213-afeb23e71e79",
   "metadata": {},
   "outputs": [],
   "source": [
    "# Function to preprocess text: remove symbols, stop words, frequent words, etc.\n",
    "def preprocess_text(text):\n",
    "    # Remove punctuation and symbols (e.g., %, &, smiley faces)\n",
    "    text = text.translate(str.maketrans('', '', string.punctuation))\n",
    "    # Convert to lowercase\n",
    "    text = text.lower()\n",
    "    return text"
   ]
  },
  {
   "cell_type": "code",
   "execution_count": 6,
   "id": "5c31ee81-77df-4892-9277-93ca4a64c288",
   "metadata": {},
   "outputs": [],
   "source": [
    "# Preprocess the reviews\n",
    "df['clean_reviews'] = df['reviews'].apply(preprocess_text)\n",
    "# Split the dataset into training and test sets\n",
    "X_train, X_test, y_train, y_test = train_test_split(df['clean_reviews'], df['sentiment'], test_size=0.2, random_state=42)"
   ]
  },
  {
   "cell_type": "code",
   "execution_count": 7,
   "id": "5216255b-fe69-4300-8f5d-b6124c311fc6",
   "metadata": {},
   "outputs": [],
   "source": [
    "# Create a TfidfVectorizer to extract 1-grams and 2-grams, remove stop words, and limit frequent words\n",
    "tfidf_vectorizer = TfidfVectorizer(ngram_range=(1, 2), stop_words=all_stop_words, max_df=0.85, min_df=3)\n",
    "#Create an instance of Logistic Regressor\n",
    "Logreg=LogisticRegression(penalty='l2', C=1.0, fit_intercept=True, intercept_scaling=1, random_state=1034, solver='lbfgs', max_iter=1000, verbose=0)\n"
   ]
  },
  {
   "cell_type": "code",
   "execution_count": 8,
   "id": "508edb3c-8eef-4812-a1cb-7d01a93c8196",
   "metadata": {},
   "outputs": [],
   "source": [
    "# Define the  model pipeline\n",
    "pipeline = Pipeline([\n",
    "    ('tfidf', tfidf_vectorizer),  # Use TF-IDF \n",
    "    ('logreg', Logreg) \n",
    "])"
   ]
  },
  {
   "cell_type": "code",
   "execution_count": 9,
   "id": "a7e92f79-5969-4d25-88ea-07ae12f037c0",
   "metadata": {},
   "outputs": [
    {
     "name": "stdout",
     "output_type": "stream",
     "text": [
      "Test accuracy: 89.78%\n"
     ]
    }
   ],
   "source": [
    "# Train the model\n",
    "pipeline.fit(X_train, y_train)\n",
    "# Evaluate the model\n",
    "accuracy = pipeline.score(X_test, y_test)\n",
    "print(f\"Test accuracy: {accuracy * 100:.2f}%\")"
   ]
  },
  {
   "cell_type": "code",
   "execution_count": 28,
   "id": "ae408cca-deb7-474e-8078-34e7310f1554",
   "metadata": {},
   "outputs": [
    {
     "name": "stdin",
     "output_type": "stream",
     "text": [
      "Enter your review: I wish I had stayed at home with my dog\n"
     ]
    }
   ],
   "source": [
    "Xnew = input('Enter your review:')"
   ]
  },
  {
   "cell_type": "code",
   "execution_count": 30,
   "id": "3edf0ad6-7b80-4285-8ed4-00459a0ee8a0",
   "metadata": {},
   "outputs": [],
   "source": [
    "#Xnew=\"We had better not watching the movie\""
   ]
  },
  {
   "cell_type": "code",
   "execution_count": 32,
   "id": "d78ab0ca-a7d5-42c7-9431-bb6492a7fb2e",
   "metadata": {},
   "outputs": [],
   "source": [
    "# Preprocessing and tfidf-ing the new review\n",
    "df1= pd.DataFrame.from_dict({'Newreview':[Xnew]})\n",
    "FeaturesXnew = df1['Newreview'].apply(preprocess_text)\n",
    "FeaturesXnewtfidf = tfidf_vectorizer.transform(FeaturesXnew)\n",
    "ynew=Logreg.predict(FeaturesXnewtfidf)"
   ]
  },
  {
   "cell_type": "code",
   "execution_count": 34,
   "id": "38d4e3e9-49b3-42dd-b4ec-1a190eb37871",
   "metadata": {},
   "outputs": [
    {
     "name": "stdout",
     "output_type": "stream",
     "text": [
      "I wish I had stayed at home with my dog- This review is negative\n"
     ]
    }
   ],
   "source": [
    "print(\"%s- This review is %s\" % (Xnew, ynew[0]))"
   ]
  },
  {
   "cell_type": "code",
   "execution_count": null,
   "id": "408b2f66-fdbe-4f63-bb42-2962e3c4d7f6",
   "metadata": {},
   "outputs": [],
   "source": []
  }
 ],
 "metadata": {
  "kernelspec": {
   "display_name": "Python 3 (ipykernel)",
   "language": "python",
   "name": "python3"
  },
  "language_info": {
   "codemirror_mode": {
    "name": "ipython",
    "version": 3
   },
   "file_extension": ".py",
   "mimetype": "text/x-python",
   "name": "python",
   "nbconvert_exporter": "python",
   "pygments_lexer": "ipython3",
   "version": "3.11.0"
  }
 },
 "nbformat": 4,
 "nbformat_minor": 5
}
