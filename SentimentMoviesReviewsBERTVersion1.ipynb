{
 "cells": [
  {
   "cell_type": "code",
   "execution_count": 1,
   "id": "6a4f7be0-1e2b-4ec8-881a-15405890e41d",
   "metadata": {},
   "outputs": [],
   "source": [
    "import torch\n",
    "import transformers\n",
    "from datasets import load_dataset,load_dataset_builder\n",
    "from transformers import DistilBertForSequenceClassification, DistilBertTokenizer, Trainer, TrainingArguments\n",
    "from sklearn.metrics import accuracy_score, precision_recall_fscore_support, confusion_matrix, classification_report"
   ]
  },
  {
   "cell_type": "code",
   "execution_count": 2,
   "id": "0ce7b2ef-117d-4e9c-b5e1-34bef6fb78eb",
   "metadata": {},
   "outputs": [],
   "source": [
    "# I am working on my laptop. No GPU available\n",
    "device = torch.device(\"cpu\")"
   ]
  },
  {
   "cell_type": "code",
   "execution_count": 3,
   "id": "6944905f-10e2-44f8-bbe2-eda887f717cf",
   "metadata": {},
   "outputs": [
    {
     "data": {
      "text/plain": [
       "{'text': Value(dtype='string', id=None),\n",
       " 'label': ClassLabel(names=['neg', 'pos'], id=None)}"
      ]
     },
     "execution_count": 3,
     "metadata": {},
     "output_type": "execute_result"
    }
   ],
   "source": [
    "# Load the IMDB dataset and understanding the features\n",
    "dataset = load_dataset(\"imdb\")\n",
    "ds_builder = load_dataset_builder(\"imdb\")\n",
    "ds_builder.info.description\n",
    "ds_builder.info.features"
   ]
  },
  {
   "cell_type": "code",
   "execution_count": 4,
   "id": "814b98fe-21c7-4333-84da-5ac75e1595ef",
   "metadata": {},
   "outputs": [
    {
     "name": "stderr",
     "output_type": "stream",
     "text": [
      "/Users/reyessou/anaconda3/lib/python3.11/site-packages/transformers/tokenization_utils_base.py:1601: FutureWarning: `clean_up_tokenization_spaces` was not set. It will be set to `True` by default. This behavior will be depracted in transformers v4.45, and will be then set to `False` by default. For more details check this issue: https://github.com/huggingface/transformers/issues/31884\n",
      "  warnings.warn(\n"
     ]
    }
   ],
   "source": [
    "# Loading the DistilBERT tokenizer\n",
    "tokenizer = DistilBertTokenizer.from_pretrained('distilbert-base-uncased')"
   ]
  },
  {
   "cell_type": "code",
   "execution_count": 5,
   "id": "2a915acd-93f0-40fd-bfab-b1301f4dac57",
   "metadata": {},
   "outputs": [],
   "source": [
    "# Tokenize the dataset\n",
    "def tokenize(batch):\n",
    "    return tokenizer(batch['text'], padding=True, truncation=True, max_length=512)\n",
    "\n",
    "train_dataset = dataset['train'].map(tokenize, batched=True, batch_size=len(dataset['train']))\n",
    "test_dataset = dataset['test'].map(tokenize, batched=True, batch_size=len(dataset['test']))\n",
    "\n",
    "# Format dataset for PyTorch\n",
    "train_dataset.set_format('torch', columns=['input_ids', 'attention_mask', 'label'])\n",
    "test_dataset.set_format('torch', columns=['input_ids', 'attention_mask', 'label'])"
   ]
  },
  {
   "cell_type": "code",
   "execution_count": 6,
   "id": "8fff81b7-67fc-43b9-bbd3-87850acf220b",
   "metadata": {},
   "outputs": [
    {
     "name": "stderr",
     "output_type": "stream",
     "text": [
      "Some weights of DistilBertForSequenceClassification were not initialized from the model checkpoint at distilbert-base-uncased and are newly initialized: ['classifier.bias', 'classifier.weight', 'pre_classifier.bias', 'pre_classifier.weight']\n",
      "You should probably TRAIN this model on a down-stream task to be able to use it for predictions and inference.\n"
     ]
    },
    {
     "data": {
      "text/plain": [
       "DistilBertForSequenceClassification(\n",
       "  (distilbert): DistilBertModel(\n",
       "    (embeddings): Embeddings(\n",
       "      (word_embeddings): Embedding(30522, 768, padding_idx=0)\n",
       "      (position_embeddings): Embedding(512, 768)\n",
       "      (LayerNorm): LayerNorm((768,), eps=1e-12, elementwise_affine=True)\n",
       "      (dropout): Dropout(p=0.1, inplace=False)\n",
       "    )\n",
       "    (transformer): Transformer(\n",
       "      (layer): ModuleList(\n",
       "        (0-5): 6 x TransformerBlock(\n",
       "          (attention): MultiHeadSelfAttention(\n",
       "            (dropout): Dropout(p=0.1, inplace=False)\n",
       "            (q_lin): Linear(in_features=768, out_features=768, bias=True)\n",
       "            (k_lin): Linear(in_features=768, out_features=768, bias=True)\n",
       "            (v_lin): Linear(in_features=768, out_features=768, bias=True)\n",
       "            (out_lin): Linear(in_features=768, out_features=768, bias=True)\n",
       "          )\n",
       "          (sa_layer_norm): LayerNorm((768,), eps=1e-12, elementwise_affine=True)\n",
       "          (ffn): FFN(\n",
       "            (dropout): Dropout(p=0.1, inplace=False)\n",
       "            (lin1): Linear(in_features=768, out_features=3072, bias=True)\n",
       "            (lin2): Linear(in_features=3072, out_features=768, bias=True)\n",
       "            (activation): GELUActivation()\n",
       "          )\n",
       "          (output_layer_norm): LayerNorm((768,), eps=1e-12, elementwise_affine=True)\n",
       "        )\n",
       "      )\n",
       "    )\n",
       "  )\n",
       "  (pre_classifier): Linear(in_features=768, out_features=768, bias=True)\n",
       "  (classifier): Linear(in_features=768, out_features=2, bias=True)\n",
       "  (dropout): Dropout(p=0.2, inplace=False)\n",
       ")"
      ]
     },
     "execution_count": 6,
     "metadata": {},
     "output_type": "execute_result"
    }
   ],
   "source": [
    "# Load DistilBERT model for sequence classification\n",
    "model = DistilBertForSequenceClassification.from_pretrained('distilbert-base-uncased', num_labels=2)\n",
    "model.to(device)"
   ]
  },
  {
   "cell_type": "code",
   "execution_count": 7,
   "id": "0fc5f060-dec3-44c9-8ebe-4afe2666267f",
   "metadata": {},
   "outputs": [],
   "source": [
    "# Define evaluation metrics\n",
    "def compute_metrics(p):\n",
    "    preds = torch.argmax(torch.from_numpy(p.predictions), axis=1)\n",
    "    precision, recall, f1, _ = precision_recall_fscore_support(p.label_ids, preds, average='binary')\n",
    "    acc = accuracy_score(p.label_ids, preds)\n",
    "    return {\"accuracy\": acc, \"precision\": precision, \"recall\": recall, \"f1\": f1}"
   ]
  },
  {
   "cell_type": "code",
   "execution_count": 8,
   "id": "09f9e5e7-4da8-4af5-bec5-037524a0832a",
   "metadata": {},
   "outputs": [],
   "source": [
    "# Training arguments\n",
    "training_args = TrainingArguments(\n",
    "    output_dir=\"./results\",          # Output directory\n",
    "    eval_strategy=\"steps\",\n",
    "    eval_steps = 500,                # Evaluate and save every 500 batches \n",
    "    learning_rate=2e-5,              # Learning rate\n",
    "    per_device_train_batch_size=8,   # Batch size (small to fit in memory)\n",
    "    per_device_eval_batch_size=16,   # Larger batch size for evaluation\n",
    "    num_train_epochs=3,              # Number of epochs\n",
    "    weight_decay=0.015,               # Weight decay\n",
    "    logging_dir=\"./logs\",            # Directory for logs\n",
    "    logging_steps=10,\n",
    "    load_best_model_at_end=True,     # Early stopping\n",
    "    save_total_limit=2,              # Limit the number of checkpoints\n",
    "    gradient_accumulation_steps=4,\n",
    "    save_strategy=\"steps\"\n",
    ")"
   ]
  },
  {
   "cell_type": "code",
   "execution_count": 9,
   "id": "dd28f2e3-bcc2-4562-a44e-c47227bdd335",
   "metadata": {},
   "outputs": [],
   "source": [
    "# Trainer\n",
    "trainer = Trainer(\n",
    "    model=model,\n",
    "    args=training_args,\n",
    "    train_dataset=train_dataset,\n",
    "    eval_dataset=test_dataset,\n",
    "    compute_metrics=compute_metrics\n",
    ")"
   ]
  },
  {
   "cell_type": "code",
   "execution_count": 10,
   "id": "285de9ce-7dbe-4eb5-9514-191e11ef6952",
   "metadata": {},
   "outputs": [
    {
     "data": {
      "text/html": [
       "\n",
       "    <div>\n",
       "      \n",
       "      <progress value='2343' max='2343' style='width:300px; height:20px; vertical-align: middle;'></progress>\n",
       "      [2343/2343 1:50:38, Epoch 2/3]\n",
       "    </div>\n",
       "    <table border=\"1\" class=\"dataframe\">\n",
       "  <thead>\n",
       " <tr style=\"text-align: left;\">\n",
       "      <th>Step</th>\n",
       "      <th>Training Loss</th>\n",
       "      <th>Validation Loss</th>\n",
       "      <th>Accuracy</th>\n",
       "      <th>Precision</th>\n",
       "      <th>Recall</th>\n",
       "      <th>F1</th>\n",
       "    </tr>\n",
       "  </thead>\n",
       "  <tbody>\n",
       "    <tr>\n",
       "      <td>500</td>\n",
       "      <td>0.181700</td>\n",
       "      <td>0.221635</td>\n",
       "      <td>0.912200</td>\n",
       "      <td>0.879000</td>\n",
       "      <td>0.956000</td>\n",
       "      <td>0.915884</td>\n",
       "    </tr>\n",
       "    <tr>\n",
       "      <td>1000</td>\n",
       "      <td>0.182800</td>\n",
       "      <td>0.222309</td>\n",
       "      <td>0.926920</td>\n",
       "      <td>0.924982</td>\n",
       "      <td>0.929200</td>\n",
       "      <td>0.927086</td>\n",
       "    </tr>\n",
       "    <tr>\n",
       "      <td>1500</td>\n",
       "      <td>0.078400</td>\n",
       "      <td>0.196851</td>\n",
       "      <td>0.929280</td>\n",
       "      <td>0.932812</td>\n",
       "      <td>0.925200</td>\n",
       "      <td>0.928990</td>\n",
       "    </tr>\n",
       "    <tr>\n",
       "      <td>2000</td>\n",
       "      <td>0.092100</td>\n",
       "      <td>0.249238</td>\n",
       "      <td>0.928240</td>\n",
       "      <td>0.944675</td>\n",
       "      <td>0.909760</td>\n",
       "      <td>0.926889</td>\n",
       "    </tr>\n",
       "  </tbody>\n",
       "</table><p>"
      ],
      "text/plain": [
       "<IPython.core.display.HTML object>"
      ]
     },
     "metadata": {},
     "output_type": "display_data"
    },
    {
     "data": {
      "text/html": [
       "\n",
       "    <div>\n",
       "      \n",
       "      <progress value='1563' max='1563' style='width:300px; height:20px; vertical-align: middle;'></progress>\n",
       "      [1563/1563 07:14]\n",
       "    </div>\n",
       "    "
      ],
      "text/plain": [
       "<IPython.core.display.HTML object>"
      ]
     },
     "metadata": {},
     "output_type": "display_data"
    },
    {
     "name": "stdout",
     "output_type": "stream",
     "text": [
      "Test Accuracy: 0.9293\n"
     ]
    }
   ],
   "source": [
    "# Train the model\n",
    "trainer.train()\n",
    "#-------------------------------------\n",
    "# Evaluate the model on the test dataset\n",
    "eval_results = trainer.evaluate()\n",
    "print(f\"Test Accuracy: {eval_results['eval_accuracy']:.4f}\")"
   ]
  },
  {
   "cell_type": "code",
   "execution_count": 30,
   "id": "460a1aba-13ce-4b35-b542-346fc27ec989",
   "metadata": {},
   "outputs": [
    {
     "data": {
      "image/png": "[encoded data removed]",
      "text/plain": [
       "<Figure size 1000x600 with 1 Axes>"
      ]
     },
     "metadata": {},
     "output_type": "display_data"
    }
   ],
   "source": [
    "import matplotlib.pyplot as plt\n",
    "\n",
    "# Extract the loss values from the Trainer logs\n",
    "log_history = trainer.state.log_history\n",
    "\n",
    "# Training and validation losses from log history\n",
    "train_loss = [log['loss'] for log in log_history if 'loss' in log.keys()]\n",
    "eval_loss = [log['eval_loss'] for log in log_history if 'eval_loss' in log.keys()]\n",
    "\n",
    "# Logging steps for training and evaluation from log history\n",
    "train_steps = [log['step'] for log in log_history if 'loss' in log.keys()]\n",
    "eval_steps = [log['step'] for log in log_history if 'eval_loss' in log.keys()]\n",
    "\n",
    "# Plotting the losses as they evolve over training/evaluation\n",
    "plt.figure(figsize=(10, 6))\n",
    "plt.plot(train_steps, train_loss, label=\"Training Loss\", marker='o')\n",
    "plt.plot(eval_steps, eval_loss, label=\"Validation Loss\", marker='o', linestyle='--')\n",
    "\n",
    "# Label the plot\n",
    "plt.xlabel(\"Steps\")\n",
    "plt.ylabel(\"Loss\")\n",
    "plt.title(\"Training and Validation Loss\")\n",
    "plt.legend()\n",
    "\n",
    "# Save the plot as a PNG file\n",
    "plt.savefig(\"TrainingVsValidationLossVersion1.png\")\n",
    "\n",
    "# Show the plot\n",
    "plt.show()"
   ]
  },
  {
   "cell_type": "code",
   "execution_count": 32,
   "id": "f6298553-6cb9-405c-8ec0-6844da104eac",
   "metadata": {},
   "outputs": [],
   "source": [
    "trainer.save_model(\"best_modelVersion1\")"
   ]
  },
  {
   "cell_type": "code",
   "execution_count": 33,
   "id": "c72e91d4-20ad-4d02-9bb3-8b60261372c8",
   "metadata": {},
   "outputs": [
    {
     "name": "stdout",
     "output_type": "stream",
     "text": [
      "The best model was found at step 1500 and saved in './results/checkpoint-1500'\n"
     ]
    }
   ],
   "source": [
    "# Access the best checkpoint and the corresponding step\n",
    "best_checkpoint = trainer.state.best_model_checkpoint\n",
    "\n",
    "# If best_model_checkpoint is not None, extract the step number from the checkpoint path\n",
    "if best_checkpoint is not None:\n",
    "    best_step = int(best_checkpoint.split('-')[-1])\n",
    "    print(f\"The best model was found at step {best_step} and saved in '{best_checkpoint}'\")\n",
    "else:\n",
    "    print(\"No best model found.\")"
   ]
  },
  {
   "cell_type": "code",
   "execution_count": 36,
   "id": "f03f8a23-5f09-4d74-bc95-8d758ee646f1",
   "metadata": {},
   "outputs": [
    {
     "name": "stdout",
     "output_type": "stream",
     "text": [
      "The best model was found with a metric value of 0.19685108959674835.\n"
     ]
    }
   ],
   "source": [
    "#best_step = trainer.state.best_trial\n",
    "best_metric = trainer.state.best_metric\n",
    "print(f\"The best model was found with a metric value of {best_metric}.\")"
   ]
  },
  {
   "cell_type": "code",
   "execution_count": 122,
   "id": "264b97d1-0d78-42bf-9c1e-73a1091d7206",
   "metadata": {},
   "outputs": [],
   "source": [
    "# Get the predictions on the validation set\n",
    "predictions_output = trainer.predict(test_dataset)\n",
    "\n",
    "# Extract the predictions and true labels\n",
    "logits = predictions_output.predictions  # Raw output (logits)\n",
    "true_labels = predictions_output.label_ids  # Ground truth labels\n",
    "\n",
    "# Convert logits to predicted class labels\n",
    "pred_labels = np.argmax(logits, axis=1)"
   ]
  },
  {
   "cell_type": "code",
   "execution_count": 124,
   "id": "949280c2-6101-4ecc-b3ae-2243c7ccbaee",
   "metadata": {},
   "outputs": [
    {
     "name": "stdout",
     "output_type": "stream",
     "text": [
      "Confusion Matrix:\n",
      "[[11667   833]\n",
      " [  935 11565]]\n",
      "Classification Report:\n",
      "              precision    recall  f1-score   support\n",
      "\n",
      "           0       0.93      0.93      0.93     12500\n",
      "           1       0.93      0.93      0.93     12500\n",
      "\n",
      "    accuracy                           0.93     25000\n",
      "   macro avg       0.93      0.93      0.93     25000\n",
      "weighted avg       0.93      0.93      0.93     25000\n",
      "\n"
     ]
    }
   ],
   "source": [
    "# Generate the confusion matrix\n",
    "cm = confusion_matrix(true_labels, pred_labels)\n",
    "\n",
    "print(\"Confusion Matrix:\")\n",
    "print(cm)\n",
    "\n",
    "# Print the classification report \n",
    "from sklearn.metrics import classification_report\n",
    "print(\"Classification Report:\")\n",
    "print(classification_report(true_labels, pred_labels))"
   ]
  },
  {
   "cell_type": "code",
   "execution_count": null,
   "id": "e3e83af9-9534-4252-9583-d5ff612924de",
   "metadata": {},
   "outputs": [],
   "source": []
  }
 ],
 "metadata": {
  "kernelspec": {
   "display_name": "Python 3 (ipykernel)",
   "language": "python",
   "name": "python3"
  },
  "language_info": {
   "codemirror_mode": {
    "name": "ipython",
    "version": 3
   },
   "file_extension": ".py",
   "mimetype": "text/x-python",
   "name": "python",
   "nbconvert_exporter": "python",
   "pygments_lexer": "ipython3",
   "version": "3.11.0"
  }
 },
 "nbformat": 4,
 "nbformat_minor": 5
}
